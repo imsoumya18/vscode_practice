{
 "cells": [
  {
   "cell_type": "code",
   "execution_count": 1,
   "metadata": {},
   "outputs": [
    {
     "ename": "ModuleNotFoundError",
     "evalue": "No module named 'pandas'",
     "output_type": "error",
     "traceback": [
      "\u001b[0;31m---------------------------------------------------------------------------\u001b[0m",
      "\u001b[0;31mModuleNotFoundError\u001b[0m                       Traceback (most recent call last)",
      "\u001b[1;32m/home/soumya/VS Code Projects/vscode_practice/Untitled.ipynb Cell 1\u001b[0m in \u001b[0;36m<cell line: 1>\u001b[0;34m()\u001b[0m\n\u001b[0;32m----> <a href='vscode-notebook-cell:/home/soumya/VS%20Code%20Projects/vscode_practice/Untitled.ipynb#W0sZmlsZQ%3D%3D?line=0'>1</a>\u001b[0m \u001b[39mimport\u001b[39;00m \u001b[39mpandas\u001b[39;00m \u001b[39mas\u001b[39;00m \u001b[39mpd\u001b[39;00m\n\u001b[1;32m      <a href='vscode-notebook-cell:/home/soumya/VS%20Code%20Projects/vscode_practice/Untitled.ipynb#W0sZmlsZQ%3D%3D?line=1'>2</a>\u001b[0m \u001b[39mimport\u001b[39;00m \u001b[39mnumpy\u001b[39;00m \u001b[39mas\u001b[39;00m \u001b[39mnp\u001b[39;00m\n",
      "\u001b[0;31mModuleNotFoundError\u001b[0m: No module named 'pandas'"
     ]
    }
   ],
   "source": [
    "import pandas as pd\n",
    "import numpy as np"
   ]
  },
  {
   "cell_type": "code",
   "execution_count": 136,
   "metadata": {},
   "outputs": [],
   "source": [
    "df = pd.read_csv(\"train.csv\")"
   ]
  },
  {
   "cell_type": "code",
   "execution_count": 137,
   "metadata": {},
   "outputs": [],
   "source": [
    "df.columns = df.columns.str.replace(' ', '')"
   ]
  },
  {
   "cell_type": "code",
   "execution_count": 101,
   "metadata": {},
   "outputs": [],
   "source": [
    "df = df[[\"LotArea\", \"Street\", \"1stFlrSF\", \"Neighborhood\", \"LotFrontage\", \"OverallQual\", \"OverallCond\", \"GrLivArea\", \"YrSold\", \"SalePrice\"]]"
   ]
  },
  {
   "cell_type": "code",
   "execution_count": 102,
   "metadata": {},
   "outputs": [
    {
     "data": {
      "text/html": [
       "<div>\n",
       "<style scoped>\n",
       "    .dataframe tbody tr th:only-of-type {\n",
       "        vertical-align: middle;\n",
       "    }\n",
       "\n",
       "    .dataframe tbody tr th {\n",
       "        vertical-align: top;\n",
       "    }\n",
       "\n",
       "    .dataframe thead th {\n",
       "        text-align: right;\n",
       "    }\n",
       "</style>\n",
       "<table border=\"1\" class=\"dataframe\">\n",
       "  <thead>\n",
       "    <tr style=\"text-align: right;\">\n",
       "      <th></th>\n",
       "      <th>LotArea</th>\n",
       "      <th>Street</th>\n",
       "      <th>1stFlrSF</th>\n",
       "      <th>Neighborhood</th>\n",
       "      <th>LotFrontage</th>\n",
       "      <th>OverallQual</th>\n",
       "      <th>OverallCond</th>\n",
       "      <th>GrLivArea</th>\n",
       "      <th>YrSold</th>\n",
       "      <th>SalePrice</th>\n",
       "    </tr>\n",
       "  </thead>\n",
       "  <tbody>\n",
       "    <tr>\n",
       "      <th>0</th>\n",
       "      <td>8450</td>\n",
       "      <td>Pave</td>\n",
       "      <td>856</td>\n",
       "      <td>CollgCr</td>\n",
       "      <td>65.0</td>\n",
       "      <td>7</td>\n",
       "      <td>5</td>\n",
       "      <td>1710</td>\n",
       "      <td>2008</td>\n",
       "      <td>208500</td>\n",
       "    </tr>\n",
       "    <tr>\n",
       "      <th>1</th>\n",
       "      <td>9600</td>\n",
       "      <td>Pave</td>\n",
       "      <td>1262</td>\n",
       "      <td>Veenker</td>\n",
       "      <td>80.0</td>\n",
       "      <td>6</td>\n",
       "      <td>8</td>\n",
       "      <td>1262</td>\n",
       "      <td>2007</td>\n",
       "      <td>181500</td>\n",
       "    </tr>\n",
       "    <tr>\n",
       "      <th>2</th>\n",
       "      <td>11250</td>\n",
       "      <td>Pave</td>\n",
       "      <td>920</td>\n",
       "      <td>CollgCr</td>\n",
       "      <td>68.0</td>\n",
       "      <td>7</td>\n",
       "      <td>5</td>\n",
       "      <td>1786</td>\n",
       "      <td>2008</td>\n",
       "      <td>223500</td>\n",
       "    </tr>\n",
       "    <tr>\n",
       "      <th>3</th>\n",
       "      <td>9550</td>\n",
       "      <td>Pave</td>\n",
       "      <td>961</td>\n",
       "      <td>Crawfor</td>\n",
       "      <td>60.0</td>\n",
       "      <td>7</td>\n",
       "      <td>5</td>\n",
       "      <td>1717</td>\n",
       "      <td>2006</td>\n",
       "      <td>140000</td>\n",
       "    </tr>\n",
       "    <tr>\n",
       "      <th>4</th>\n",
       "      <td>14260</td>\n",
       "      <td>Pave</td>\n",
       "      <td>1145</td>\n",
       "      <td>NoRidge</td>\n",
       "      <td>84.0</td>\n",
       "      <td>8</td>\n",
       "      <td>5</td>\n",
       "      <td>2198</td>\n",
       "      <td>2008</td>\n",
       "      <td>250000</td>\n",
       "    </tr>\n",
       "  </tbody>\n",
       "</table>\n",
       "</div>"
      ],
      "text/plain": [
       "   LotArea Street  1stFlrSF Neighborhood  LotFrontage  OverallQual  \\\n",
       "0     8450   Pave       856      CollgCr         65.0            7   \n",
       "1     9600   Pave      1262      Veenker         80.0            6   \n",
       "2    11250   Pave       920      CollgCr         68.0            7   \n",
       "3     9550   Pave       961      Crawfor         60.0            7   \n",
       "4    14260   Pave      1145      NoRidge         84.0            8   \n",
       "\n",
       "   OverallCond  GrLivArea  YrSold  SalePrice  \n",
       "0            5       1710    2008     208500  \n",
       "1            8       1262    2007     181500  \n",
       "2            5       1786    2008     223500  \n",
       "3            5       1717    2006     140000  \n",
       "4            5       2198    2008     250000  "
      ]
     },
     "execution_count": 102,
     "metadata": {},
     "output_type": "execute_result"
    }
   ],
   "source": [
    "df.head(5)"
   ]
  },
  {
   "cell_type": "code",
   "execution_count": 103,
   "metadata": {},
   "outputs": [],
   "source": [
    "df = df.dropna()"
   ]
  },
  {
   "cell_type": "code",
   "execution_count": 104,
   "metadata": {},
   "outputs": [],
   "source": [
    "df[\"Street\"] = df[\"Street\"].astype(\"category\")\n",
    "df[\"Neighborhood\"] = df[\"Neighborhood\"].astype(\"category\")\n",
    "df[\"YrSold\"] = df[\"YrSold\"].astype(\"category\")\n",
    "df = pd.get_dummies(data=df, drop_first=True)"
   ]
  },
  {
   "cell_type": "code",
   "execution_count": 105,
   "metadata": {},
   "outputs": [],
   "source": [
    "from sklearn.model_selection import train_test_split"
   ]
  },
  {
   "cell_type": "code",
   "execution_count": 106,
   "metadata": {},
   "outputs": [],
   "source": [
    "train_data, test_data = train_test_split(df, test_size=0.2)"
   ]
  },
  {
   "cell_type": "code",
   "execution_count": 107,
   "metadata": {},
   "outputs": [],
   "source": [
    "from sklearn.linear_model import LinearRegression"
   ]
  },
  {
   "cell_type": "code",
   "execution_count": 108,
   "metadata": {},
   "outputs": [],
   "source": [
    "from sklearn.metrics import r2_score, mean_squared_error"
   ]
  },
  {
   "cell_type": "code",
   "execution_count": 109,
   "metadata": {},
   "outputs": [],
   "source": [
    "def run(attributes):\n",
    "    train_feature = np.array(train_data[attributes])\n",
    "    test_feature = np.array(test_data[attributes])\n",
    "    train_label = np.array(train_data[\"SalePrice\"])\n",
    "    test_label = np.array(test_data[\"SalePrice\"])\n",
    "    lin_reg = LinearRegression()\n",
    "    lin_reg.fit(train_feature, train_label)\n",
    "    coef = lin_reg.coef_\n",
    "    intercept = lin_reg.intercept_\n",
    "    test_pred = lin_reg.predict(test_feature)\n",
    "    train_pred = lin_reg.predict(train_feature)\n",
    "    r2_train = r2_score(train_label,train_pred)\n",
    "    mean_squared_err_train = mean_squared_error(train_label,train_pred)\n",
    "    r2_test = r2_score(test_label,test_pred)\n",
    "    mean_squared_err_test = mean_squared_error(test_label, test_pred)\n",
    "    print(\"Coeff =\",coef)\n",
    "    print(\"Intercept =\",intercept)\n",
    "    print(\"r2 Train =\",r2_train)\n",
    "    print(\"mean_squared_err Train =\",mean_squared_err_train)\n",
    "    print(\"r2 Test =\",r2_test)\n",
    "    print(\"mean_squared_err Test =\",mean_squared_err_test)\n",
    "    return coef, intercept, r2_train, mean_squared_err_train, r2_test, mean_squared_err_test "
   ]
  },
  {
   "cell_type": "code",
   "execution_count": 110,
   "metadata": {},
   "outputs": [],
   "source": [
    "# Linear regression for predicting sale price based on lotArea"
   ]
  },
  {
   "cell_type": "code",
   "execution_count": 111,
   "metadata": {},
   "outputs": [
    {
     "name": "stdout",
     "output_type": "stream",
     "text": [
      "Coeff = [3.25354953]\n",
      "Intercept = 147893.8242294193\n",
      "r2 Train = 0.10192377243105044\n",
      "mean_squared_err Train = 6246966831.923383\n",
      "r2 Test = 0.07635253528044261\n",
      "mean_squared_err Test = 6384116152.067997\n"
     ]
    }
   ],
   "source": [
    "attributes = [\"LotArea\"]\n",
    "coef, intercept, r2_train, mean_squared_err_train, r2_test, mean_squared_err_test = run(attributes)"
   ]
  },
  {
   "cell_type": "code",
   "execution_count": 67,
   "metadata": {},
   "outputs": [],
   "source": [
    "coefs = []\n",
    "intercepts = []\n",
    "r2s_tr = []\n",
    "mse_tr = []\n",
    "r2s_ts = []\n",
    "mse_ts = []"
   ]
  },
  {
   "cell_type": "code",
   "execution_count": 68,
   "metadata": {},
   "outputs": [],
   "source": [
    "# Multiple regression model 1"
   ]
  },
  {
   "cell_type": "code",
   "execution_count": 69,
   "metadata": {},
   "outputs": [
    {
     "name": "stdout",
     "output_type": "stream",
     "text": [
      "Coeff = [  1.95594295 971.93862715]\n",
      "Intercept = 94474.3401644479\n",
      "r2 Train = 0.15966988361858092\n",
      "mean_squared_err Train = 6008465629.270811\n",
      "r2 Test = 0.12897488017785996\n",
      "mean_squared_err Test = 5317092127.668279\n"
     ]
    }
   ],
   "source": [
    "attributes = [\"LotArea\", \"LotFrontage\"]\n",
    "coef, intercept, r2_train, mean_squared_err_train, r2_test, mean_squared_err_test = run(attributes)\n",
    "coefs.append(coef)\n",
    "intercepts.append(intercept)\n",
    "r2s_tr.append(r2_train)\n",
    "mse_tr.append(mean_squared_err_train)\n",
    "r2s_ts.append(r2_test)\n",
    "mse_ts.append(mean_squared_err_test)"
   ]
  },
  {
   "cell_type": "code",
   "execution_count": 70,
   "metadata": {},
   "outputs": [],
   "source": [
    "# Multiple regression model 2"
   ]
  },
  {
   "cell_type": "code",
   "execution_count": 71,
   "metadata": {},
   "outputs": [
    {
     "name": "stdout",
     "output_type": "stream",
     "text": [
      "Coeff = [1.26237696e+00 4.12015367e+02 4.46060603e+04 2.08341033e+02]\n",
      "Intercept = -134068.06387930133\n",
      "r2 Train = 0.6674631906928139\n",
      "mean_squared_err Train = 2377679854.9044466\n",
      "r2 Test = 0.7406327157603334\n",
      "mean_squared_err Test = 1583283551.5547867\n"
     ]
    }
   ],
   "source": [
    "attributes = [\"LotArea\", \"LotFrontage\",\"OverallQual\", \"OverallCond\"]\n",
    "coef, intercept, r2_train, mean_squared_err_train, r2_test, mean_squared_err_test = run(attributes)\n",
    "coefs.append(coef)\n",
    "intercepts.append(intercept)\n",
    "r2s_tr.append(r2_train)\n",
    "mse_tr.append(mean_squared_err_train)\n",
    "r2s_ts.append(r2_test)\n",
    "mse_ts.append(mean_squared_err_test)"
   ]
  },
  {
   "cell_type": "code",
   "execution_count": 72,
   "metadata": {},
   "outputs": [],
   "source": [
    "# Multiple regression model 3"
   ]
  },
  {
   "cell_type": "code",
   "execution_count": 73,
   "metadata": {},
   "outputs": [
    {
     "name": "stdout",
     "output_type": "stream",
     "text": [
      "Coeff = [7.73186805e-01 3.32365567e+01 3.24356277e+04 1.05914751e+03\n",
      " 3.19308541e+01 4.21980928e+01]\n",
      "Intercept = -133606.33750030698\n",
      "r2 Train = 0.730865555011555\n",
      "mean_squared_err Train = 1924345005.4239933\n",
      "r2 Test = 0.8001851245180358\n",
      "mean_squared_err Test = 1219751390.9049075\n"
     ]
    }
   ],
   "source": [
    "attributes = [\"LotArea\", \"LotFrontage\", \"OverallQual\", \"OverallCond\", \"1stFlrSF\", \"GrLivArea\"]\n",
    "coef, intercept, r2_train, mean_squared_err_train, r2_test, mean_squared_err_test = run(attributes)\n",
    "coefs.append(coef)\n",
    "intercepts.append(intercept)\n",
    "r2s_tr.append(r2_train)\n",
    "mse_tr.append(mean_squared_err_train)\n",
    "r2s_ts.append(r2_test)\n",
    "mse_ts.append(mean_squared_err_test)"
   ]
  },
  {
   "cell_type": "code",
   "execution_count": 74,
   "metadata": {},
   "outputs": [],
   "source": [
    "# Multiple regression model 4"
   ]
  },
  {
   "cell_type": "code",
   "execution_count": 75,
   "metadata": {},
   "outputs": [
    {
     "name": "stdout",
     "output_type": "stream",
     "text": [
      "Coeff = [3.11628217e+00 8.42728507e+04]\n",
      "Intercept = 66830.3849887378\n",
      "r2 Train = 0.10168155997030792\n",
      "mean_squared_err Train = 6423089409.553767\n",
      "r2 Test = 0.09502588272864587\n",
      "mean_squared_err Test = 5524330636.606236\n"
     ]
    }
   ],
   "source": [
    "attributes = [\"LotArea\"]\n",
    "for col in df.columns:\n",
    "    if \"Street\" in col:\n",
    "        attributes.append(col)\n",
    "coef, intercept, r2_train, mean_squared_err_train, r2_test, mean_squared_err_test = run(attributes)\n",
    "coefs.append(coef)\n",
    "intercepts.append(intercept)\n",
    "r2s_tr.append(r2_train)\n",
    "mse_tr.append(mean_squared_err_train)\n",
    "r2s_ts.append(r2_test)\n",
    "mse_ts.append(mean_squared_err_test)"
   ]
  },
  {
   "cell_type": "code",
   "execution_count": 76,
   "metadata": {},
   "outputs": [],
   "source": [
    "# Multiple regression model 5"
   ]
  },
  {
   "cell_type": "code",
   "execution_count": 77,
   "metadata": {},
   "outputs": [
    {
     "name": "stdout",
     "output_type": "stream",
     "text": [
      "Coeff = [ 1.96110936e+00  7.91583538e+03  2.80284007e+04 -5.85871475e+04\n",
      " -8.65205654e+04 -8.46596747e+04 -1.08575438e+04 -6.73339557e+03\n",
      " -1.06365119e+04 -7.98905507e+04 -1.54554020e+04 -1.02390761e+05\n",
      " -9.81084135e+04 -5.34950192e+04 -6.50688436e+04 -5.16476344e+04\n",
      " -3.20503166e+04  1.39601283e+05  1.01514015e+05 -8.08067671e+04\n",
      " -6.86657534e+04 -7.74459606e+04 -1.32356762e+04  2.85708519e+04\n",
      "  1.48361767e+05  2.48436720e+04  3.22976276e+04]\n",
      "Intercept = 117376.93176255596\n",
      "r2 Train = 0.6072225670527112\n",
      "mean_squared_err Train = 2808407862.3523054\n",
      "r2 Test = 0.5913239713363698\n",
      "mean_squared_err Test = 2494724945.725831\n"
     ]
    }
   ],
   "source": [
    "attributes = [\"LotArea\", \"OverallCond\"]\n",
    "for col in df.columns:\n",
    "    if \"Street\" in col:\n",
    "        attributes.append(col)\n",
    "for col in df.columns:\n",
    "    if \"Neighborhood\" in col:\n",
    "        attributes.append(col)\n",
    "coef, intercept, r2_train, mean_squared_err_train, r2_test, mean_squared_err_test = run(attributes)\n",
    "coefs.append(coef)\n",
    "intercepts.append(intercept)\n",
    "r2s_tr.append(r2_train)\n",
    "mse_tr.append(mean_squared_err_train)\n",
    "r2s_ts.append(r2_test)\n",
    "mse_ts.append(mean_squared_err_test)"
   ]
  },
  {
   "cell_type": "code",
   "execution_count": 78,
   "metadata": {},
   "outputs": [],
   "source": [
    "# Multiple regression model 6"
   ]
  },
  {
   "cell_type": "code",
   "execution_count": 112,
   "metadata": {},
   "outputs": [
    {
     "name": "stdout",
     "output_type": "stream",
     "text": [
      "Coeff = [ 1.37426103e+00  9.49749306e+03  9.10781329e+01  3.87751112e+04\n",
      "  1.28036267e+04 -1.04661958e+04 -3.48269398e+04 -9.91179113e+03\n",
      "  2.06808543e+04  1.08572856e+04 -3.89761865e+04  3.34262315e+04\n",
      " -4.26320288e+04 -3.18905138e+04 -2.93821467e+04 -3.70041018e+04\n",
      " -9.86280460e+03 -1.38223601e+04  1.18955907e+05  1.03721210e+05\n",
      " -4.08938096e+04 -2.92774396e+04 -4.41083423e+04  3.48276771e+03\n",
      "  5.85880523e+04  1.14449504e+05  2.24183472e+04  4.80210318e+04\n",
      " -3.36102654e+02  1.92804958e+03 -4.57259748e+03 -1.75103041e+03]\n",
      "Intercept = -30127.984351462248\n",
      "r2 Train = 0.7233484532777602\n",
      "mean_squared_err Train = 1924372323.1071157\n",
      "r2 Test = 0.60040394899383\n",
      "mean_squared_err Test = 2761949446.05369\n"
     ]
    }
   ],
   "source": [
    "attributes = [\"LotArea\", \"OverallCond\", \"1stFlrSF\"]\n",
    "for col in df.columns:\n",
    "    if \"Street\" in col:\n",
    "        attributes.append(col)\n",
    "for col in df.columns:\n",
    "    if \"Neighborhood\" in col:\n",
    "        attributes.append(col)\n",
    "for col in df.columns:\n",
    "    if \"YrSold\" in col:\n",
    "        attributes.append(col)\n",
    "coef, intercept, r2_train, mean_squared_err_train, r2_test, mean_squared_err_test = run(attributes)\n",
    "coefs.append(coef)\n",
    "intercepts.append(intercept)\n",
    "r2s_tr.append(r2_train)\n",
    "mse_tr.append(mean_squared_err_train)\n",
    "r2s_ts.append(r2_test)\n",
    "mse_ts.append(mean_squared_err_test)"
   ]
  },
  {
   "cell_type": "code",
   "execution_count": 80,
   "metadata": {},
   "outputs": [],
   "source": [
    "import matplotlib.pyplot as plt"
   ]
  },
  {
   "cell_type": "code",
   "execution_count": 81,
   "metadata": {},
   "outputs": [],
   "source": [
    "model_name = [\"model 1\",\"model 2\",\"model 3\",\"model 4\",\"model 5\",\"model 6\"]"
   ]
  },
  {
   "cell_type": "code",
   "execution_count": 82,
   "metadata": {},
   "outputs": [
    {
     "data": {
      "image/png": "[encoded data removed]",
      "text/plain": [
       "<Figure size 720x360 with 1 Axes>"
      ]
     },
     "metadata": {
      "needs_background": "light"
     },
     "output_type": "display_data"
    }
   ],
   "source": [
    "plt.figure(figsize = (10, 5))\n",
    "X_axis = np.arange(len(model_name))\n",
    "  \n",
    "plt.bar(X_axis - 0.2, r2s_tr, 0.4, label = 'Train data')\n",
    "plt.bar(X_axis + 0.2, r2s_ts, 0.4, label = 'Test data')\n",
    "  \n",
    "plt.xticks(X_axis, model_name)\n",
    "plt.xlabel(\"Model name\")\n",
    "plt.ylabel(\"R2 score\")\n",
    "plt.title(\"R2 score of the models\")\n",
    "plt.legend()\n",
    "plt.show()"
   ]
  },
  {
   "cell_type": "code",
   "execution_count": 83,
   "metadata": {},
   "outputs": [
    {
     "data": {
      "image/png": "[encoded data removed]",
      "text/plain": [
       "<Figure size 720x360 with 1 Axes>"
      ]
     },
     "metadata": {
      "needs_background": "light"
     },
     "output_type": "display_data"
    }
   ],
   "source": [
    "plt.figure(figsize = (10, 5))\n",
    "X_axis = np.arange(len(model_name))\n",
    "  \n",
    "plt.bar(X_axis - 0.2, mse_tr, 0.4, label = 'Train data')\n",
    "plt.bar(X_axis + 0.2, mse_ts, 0.4, label = 'Test data')\n",
    "  \n",
    "plt.xticks(X_axis, model_name)\n",
    "plt.xlabel(\"Model name\")\n",
    "plt.ylabel(\"Mean squared error\")\n",
    "plt.title(\"Mean squared error of models\")\n",
    "plt.legend()\n",
    "plt.show()"
   ]
  },
  {
   "cell_type": "code",
   "execution_count": 84,
   "metadata": {},
   "outputs": [],
   "source": [
    "lot_area_coef = []\n",
    "for t in coefs:\n",
    "    lot_area_coef.append(t[0])"
   ]
  },
  {
   "cell_type": "code",
   "execution_count": 85,
   "metadata": {},
   "outputs": [
    {
     "name": "stderr",
     "output_type": "stream",
     "text": [
      "No handles with labels found to put in legend.\n"
     ]
    },
    {
     "data": {
      "image/png": "[encoded data removed]",
      "text/plain": [
       "<Figure size 720x360 with 1 Axes>"
      ]
     },
     "metadata": {
      "needs_background": "light"
     },
     "output_type": "display_data"
    }
   ],
   "source": [
    "plt.figure(figsize = (10, 5))\n",
    "X_axis = np.arange(len(model_name))\n",
    "  \n",
    "plt.bar(X_axis, lot_area_coef, 0.4)\n",
    "plt.xticks(X_axis, model_name)\n",
    "plt.xlabel(\"Model name\")\n",
    "plt.ylabel(\"Coefficient\")\n",
    "plt.title(\"Coefficients of lot area of models\")\n",
    "plt.legend()\n",
    "plt.show()"
   ]
  },
  {
   "cell_type": "code",
   "execution_count": 94,
   "metadata": {},
   "outputs": [
    {
     "data": {
      "text/plain": [
       "Index(['LotArea', '1stFlrSF', 'LotFrontage', 'OverallQual', 'OverallCond',\n",
       "       'GrLivArea', 'SalePrice', 'Street_Pave', 'Neighborhood_Blueste',\n",
       "       'Neighborhood_BrDale', 'Neighborhood_BrkSide', 'Neighborhood_ClearCr',\n",
       "       'Neighborhood_CollgCr', 'Neighborhood_Crawfor', 'Neighborhood_Edwards',\n",
       "       'Neighborhood_Gilbert', 'Neighborhood_IDOTRR', 'Neighborhood_MeadowV',\n",
       "       'Neighborhood_Mitchel', 'Neighborhood_NAmes', 'Neighborhood_NPkVill',\n",
       "       'Neighborhood_NWAmes', 'Neighborhood_NoRidge', 'Neighborhood_NridgHt',\n",
       "       'Neighborhood_OldTown', 'Neighborhood_SWISU', 'Neighborhood_Sawyer',\n",
       "       'Neighborhood_SawyerW', 'Neighborhood_Somerst', 'Neighborhood_StoneBr',\n",
       "       'Neighborhood_Timber', 'Neighborhood_Veenker', 'YrSold_2007',\n",
       "       'YrSold_2008', 'YrSold_2009', 'YrSold_2010'],\n",
       "      dtype='object')"
      ]
     },
     "execution_count": 94,
     "metadata": {},
     "output_type": "execute_result"
    }
   ],
   "source": [
    "df.columns"
   ]
  },
  {
   "cell_type": "code",
   "execution_count": 115,
   "metadata": {},
   "outputs": [],
   "source": [
    "from sklearn.preprocessing import PolynomialFeatures"
   ]
  },
  {
   "cell_type": "code",
   "execution_count": 142,
   "metadata": {},
   "outputs": [],
   "source": [
    "def main(d):\n",
    "    attributes = [\"LotArea\"]\n",
    "    t_data = train_data.sort_values(by=['LotArea'])\n",
    "    ts_data = test_data.sort_values(by=['LotArea'])\n",
    "    train_feature = np.array(t_data[attributes])\n",
    "    test_feature = np.array(ts_data[attributes])\n",
    "    train_label = np.array(t_data[\"SalePrice\"])\n",
    "    test_label = np.array(ts_data[\"SalePrice\"])\n",
    "    poly = PolynomialFeatures(d)\n",
    "    poly_features = poly.fit_transform(train_feature.reshape(-1, 1))\n",
    "    lin_reg = LinearRegression()\n",
    "    lin_reg.fit(poly_features, train_label)\n",
    "    coef = lin_reg.coef_\n",
    "    intercept = lin_reg.intercept_\n",
    "    print(\"Coeff =\",coef)\n",
    "    print(\"Intercept =\",intercept)\n",
    "    test_pred = lin_reg.predict(poly.fit_transform(test_feature.reshape(-1, 1)))\n",
    "    train_pred = lin_reg.predict(poly.fit_transform(train_feature.reshape(-1, 1)))\n",
    "    plt.figure(figsize=(10, 6))\n",
    "    plt.title(\"Polynomial Regression of degree 3 - Train Data\", size=16)\n",
    "    plt.scatter(train_feature, train_label)\n",
    "    plt.plot(train_feature, train_pred, c=\"red\")\n",
    "    plt.show()\n",
    "    plt.figure(figsize=(10, 6))\n",
    "    plt.title(\"Polynomial Regression of degree 3 - Test Data\", size=16)\n",
    "    plt.scatter(test_feature, test_label)\n",
    "    plt.plot(test_feature, test_pred, c=\"red\")\n",
    "    plt.show()\n",
    "    r2_train = r2_score(train_label,train_pred)\n",
    "    mean_squared_err_train = mean_squared_error(train_label,train_pred)\n",
    "    r2_test = r2_score(test_label,test_pred)\n",
    "    mean_squared_err_test = mean_squared_error(test_label, test_pred)\n",
    "    print(\"Coeff =\",coef)\n",
    "    print(\"Intercept =\",intercept)\n",
    "    print(\"r2 Train =\",r2_train)\n",
    "    print(\"mean_squared_err Train =\",mean_squared_err_train)\n",
    "    print(\"r2 Test =\",r2_test)\n",
    "    print(\"mean_squared_err Test =\",mean_squared_err_test)"
   ]
  },
  {
   "cell_type": "code",
   "execution_count": 139,
   "metadata": {},
   "outputs": [
    {
     "name": "stdout",
     "output_type": "stream",
     "text": [
      "Coeff = [ 0.00000000e+00  9.07887130e+00 -3.64662503e-05]\n",
      "Intercept = 95950.64575445735\n"
     ]
    },
    {
     "data": {
      "image/png": "[encoded data removed]",
      "text/plain": [
       "<Figure size 720x432 with 1 Axes>"
      ]
     },
     "metadata": {
      "needs_background": "light"
     },
     "output_type": "display_data"
    },
    {
     "data": {
      "image/png": "[encoded data removed]",
      "text/plain": [
       "<Figure size 720x432 with 1 Axes>"
      ]
     },
     "metadata": {
      "needs_background": "light"
     },
     "output_type": "display_data"
    },
    {
     "name": "stdout",
     "output_type": "stream",
     "text": [
      "Coeff = [ 0.00000000e+00  9.07887130e+00 -3.64662503e-05]\n",
      "Intercept = 95950.64575445735\n",
      "r2 Train = 0.20691427632779458\n",
      "mean_squared_err Train = 5516658896.610032\n",
      "r2 Test = 0.034229244747472354\n",
      "mean_squared_err Test = 6675266173.847613\n"
     ]
    },
    {
     "data": {
      "text/plain": [
       "(array([ 0.00000000e+00,  9.07887130e+00, -3.64662503e-05]),\n",
       " 95950.64575445735,\n",
       " 0.20691427632779458,\n",
       " 5516658896.610032,\n",
       " 0.034229244747472354,\n",
       " 6675266173.847613)"
      ]
     },
     "execution_count": 139,
     "metadata": {},
     "output_type": "execute_result"
    }
   ],
   "source": [
    "main(2)"
   ]
  },
  {
   "cell_type": "code",
   "execution_count": 143,
   "metadata": {},
   "outputs": [
    {
     "name": "stdout",
     "output_type": "stream",
     "text": [
      "Coeff = [ 0.00000000e+00  1.23750235e+01 -1.50705721e-04  4.63029806e-10]\n",
      "Intercept = 76388.61696140541\n"
     ]
    },
    {
     "data": {
      "image/png": "[encoded data removed]",
      "text/plain": [
       "<Figure size 720x432 with 1 Axes>"
      ]
     },
     "metadata": {
      "needs_background": "light"
     },
     "output_type": "display_data"
    },
    {
     "data": {
      "image/png": "[encoded data removed]",
      "text/plain": [
       "<Figure size 720x432 with 1 Axes>"
      ]
     },
     "metadata": {
      "needs_background": "light"
     },
     "output_type": "display_data"
    },
    {
     "name": "stdout",
     "output_type": "stream",
     "text": [
      "Coeff = [ 0.00000000e+00  1.23750235e+01 -1.50705721e-04  4.63029806e-10]\n",
      "Intercept = 76388.61696140541\n",
      "r2 Train = 0.21421197172932438\n",
      "mean_squared_err Train = 5465896545.126526\n",
      "r2 Test = 0.14491821761490276\n",
      "mean_squared_err Test = 5910200186.519499\n"
     ]
    }
   ],
   "source": [
    "main(3)"
   ]
  },
  {
   "cell_type": "code",
   "execution_count": null,
   "metadata": {},
   "outputs": [],
   "source": []
  }
 ],
 "metadata": {
  "kernelspec": {
   "display_name": "Python 3.10.4 64-bit",
   "language": "python",
   "name": "python3"
  },
  "language_info": {
   "codemirror_mode": {
    "name": "ipython",
    "version": 3
   },
   "file_extension": ".py",
   "mimetype": "text/x-python",
   "name": "python",
   "nbconvert_exporter": "python",
   "pygments_lexer": "ipython3",
   "version": "3.10.4"
  },
  "vscode": {
   "interpreter": {
    "hash": "916dbcbb3f70747c44a77c7bcd40155683ae19c65e1c03b4aa3499c5328201f1"
   }
  }
 },
 "nbformat": 4,
 "nbformat_minor": 4
}
